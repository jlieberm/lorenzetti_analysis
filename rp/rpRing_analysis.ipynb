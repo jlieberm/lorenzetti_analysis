{
 "cells": [
  {
   "cell_type": "code",
   "execution_count": 1,
   "id": "f717d148",
   "metadata": {},
   "outputs": [
    {
     "name": "stdout",
     "output_type": "stream",
     "text": [
      "Welcome to JupyROOT 6.22/00\n",
      "Using all sub packages with ROOT dependence\n",
      "\n",
      "Applying ATLAS style settings...\n"
     ]
    }
   ],
   "source": [
    "from lorenzetti_utils.read_events import *\n",
    "from Gaugi import load\n",
    "from Gaugi.monet.utils import getColor,getColors\n",
    "from Gaugi.monet.PlotFunctions import *\n",
    "from Gaugi.monet.TAxisFunctions import *\n",
    "from Gaugi.monet.AtlasStyle import *\n",
    "from Gaugi import stdvector_to_list, progressbar\n",
    "from ROOT import TCanvas, TH1F, TH1I, TFile\n",
    "from ROOT import TLatex, gPad\n",
    "from ROOT import kRed, kBlue, kBlack,TLine,kBird, kOrange,kGray, kYellow, kViolet, kGreen, kAzure\n",
    "from pprint import pprint\n",
    "from pandas import DataFrame\n",
    "\n",
    "\n",
    "import array\n",
    "import numpy as np\n",
    "%config InlineBackend.figure_format = 'retina'\n",
    "%load_ext autoreload\n",
    "%autoreload 2\n",
    "SetAtlasStyle()\n",
    "GeV=1000."
   ]
  },
  {
   "cell_type": "code",
   "execution_count": 2,
   "id": "0d369572",
   "metadata": {},
   "outputs": [],
   "source": [
    "def read_events( path , nov=-1):\n",
    "    \n",
    "    event = EventStore(path, \"physics\")\n",
    "    vars = ['et','eta','phi','reta','rphi','rhad','eratio','weta2','f1','f3']\n",
    "    d = { key:[] for key in vars }\n",
    "    d['rings'] = []\n",
    "    d['rp_values']=[]\n",
    "    d['rp_rings']=[]\n",
    "    \n",
    "    if nov < 0 or nov > event.GetEntries():\n",
    "        nov = event.GetEntries()\n",
    "    \n",
    "    for entry in progressbar( range(nov) , event.GetEntries() , prefix='Reading...') : \n",
    "        event.GetEntry(entry) \n",
    "        \n",
    "        cluster_cont = event.retrieve(\"CaloClusterContainer_Clusters\")\n",
    "        \n",
    "        for caloRings in event.retrieve(\"CaloRingsContainer_Rings\"):\n",
    "            \n",
    "            emClus = cluster_cont.at(caloRings.cluster_link)\n",
    "            for key in vars:\n",
    "                d[key].append( getattr(emClus,key) ) \n",
    "            d['rp_values'].append(stdvector_to_list(emClus.rp_values))\n",
    "            d['rings'].append(stdvector_to_list(caloRings.rings))\n",
    "        for caloRings in event.retrieve(\"CaloRingsContainer_RpRings\"):\n",
    "            emClus = cluster_cont.at(caloRings.cluster_link)\n",
    "            d['rp_rings'].append(stdvector_to_list(caloRings.rings))\n",
    "    \n",
    "    return DataFrame(d)"
   ]
  },
  {
   "cell_type": "code",
   "execution_count": 3,
   "id": "0e6c3cca",
   "metadata": {},
   "outputs": [
    {
     "name": "stdout",
     "output_type": "stream",
     "text": [
      "Reading...|############################################################| 5/5\n",
      "Reading...... finished task in 0.128197s.\n",
      "Reading...|############################################################| 5/5\n",
      "Reading...... finished task in 0.188983s.\n"
     ]
    }
   ],
   "source": [
    "path = '/home/juan/lorenzetti/files/rp/Zee/AOD/Zee.AOD.root'\n",
    "zee_mb = read_events(path)\n",
    "path = '/home/juan/lorenzetti/files/rp/JF17/AOD/JF17.AOD.root'\n",
    "jet_mb = read_events(path)"
   ]
  },
  {
   "cell_type": "code",
   "execution_count": 4,
   "id": "daa8f0b8",
   "metadata": {},
   "outputs": [],
   "source": [
    "def AddLegend(canvas, x, y, legends, option='f'):\n",
    "    MakeLegend( canvas,x,y,x+0.98,y+0.20,textsize=16, names=legends, option = option )\n",
    "    \n",
    "def CreateHist(values, name, bins, xmin, xmax):\n",
    "    h = TH1F(name, \"\", bins, xmin, xmax)\n",
    "    w = array.array( 'd', np.ones_like(values) )\n",
    "    if isinstance(values, list):\n",
    "        h.FillN( len(values), array.array('d',  values),  w)\n",
    "    else:\n",
    "        h.FillN( len(values), array.array('d',  values.tolist()),  w)\n",
    "    return h\n",
    "\n",
    "def LZTLabel(canvas, x,y,text,color=1):\n",
    "    l = TLatex()\n",
    "    l.SetNDC()\n",
    "    l.SetTextFont(72)\n",
    "    l.SetTextColor(color)\n",
    "    delx = 0.17*696*gPad.GetWh()/(472*gPad.GetWw())\n",
    "    l.DrawLatex(x,y,\"Lorenzetti\")\n",
    "    p = TLatex()\n",
    "    p.SetNDC()\n",
    "    p.SetTextFont(42)\n",
    "    p.SetTextColor(color)\n",
    "    p.DrawLatex(x+delx,y,text)\n",
    "    canvas.Update()\n",
    "    \n",
    "def PlotHist( values_sgn, values_bkg , xlabel, bins, xmin, xmax , y_axis_maximum=None):\n",
    "    from Gaugi.monet.utils import NormHist\n",
    "    h_sgn = CreateHist(values_sgn, 'sgn', bins, xmin, xmax)\n",
    "    h_bkg = CreateHist(values_bkg, 'bkg', bins, xmin, xmax)\n",
    "    # Create canvas\n",
    "    canvas = TCanvas('canvas','canvas',700, 500)\n",
    "    h_sgn = NormHist(h_sgn)\n",
    "    h_bkg = NormHist(h_bkg)\n",
    "    h_sgn.SetLineColor(kAzure)\n",
    "    h_sgn.SetFillColor(kAzure-4)\n",
    "    h_bkg.SetLineColor(kRed)\n",
    "    h_bkg.SetFillColor(getColor(kRed, 0.5))\n",
    "    if y_axis_maximum:\n",
    "        h_sgn.SetMaximum(y_axis_maximum)\n",
    "        h_bkg.SetMaximum(y_axis_maximum)\n",
    "    AddHistogram(canvas,h_sgn, 'same')\n",
    "    AddHistogram(canvas,h_bkg, 'same')\n",
    "    FormatCanvasAxes(canvas, XLabelSize=16, YLabelSize=16, XTitleOffset=0.87, ZLabelSize=16,\n",
    "                             ZTitleSize=16, YTitleOffset=1.10, ZTitleOffset=1.1)\n",
    "    SetAxisLabels(canvas,xlabel, 'counts/bin (norm by counts)')\n",
    "    return canvas\n",
    "\n",
    "def createRingProfile(rings, norm=False):\n",
    "    from ROOT import TGraph\n",
    "    import numpy as np\n",
    "    if norm: \n",
    "        graph = TGraph(len(rings),np.array(range(0,len(rings)),dtype='double'), np.array(rings, dtype='double')/max(rings))\n",
    "        return graph\n",
    "    else: \n",
    "        graph = TGraph(len(rings),np.array(range(0,len(rings)),dtype='double'), np.array(rings, dtype='double'))\n",
    "        return graph"
   ]
  },
  {
   "cell_type": "code",
   "execution_count": 5,
   "id": "0339b880",
   "metadata": {},
   "outputs": [],
   "source": [
    "event = 3\n",
    "zee_rings = zee_mb['rings'].values[event]\n",
    "jet_rings = jet_mb['rings'].values[event]\n",
    "zee_rp_rings = zee_mb['rp_rings'].values[event]\n",
    "jet_rp_rings = jet_mb['rp_rings'].values[event]\n",
    "\n",
    "ZeeRings   = createRingProfile(zee_rings, norm=True)\n",
    "ZeeRpRings = createRingProfile(zee_rp_rings, norm=True)\n",
    "JetRings   = createRingProfile(jet_rings, norm=True)\n",
    "JetRpRings = createRingProfile(jet_rp_rings, norm=True)"
   ]
  },
  {
   "cell_type": "markdown",
   "id": "03d48c57",
   "metadata": {},
   "source": [
    "## Zee Ringer Profile Plots:"
   ]
  },
  {
   "cell_type": "code",
   "execution_count": 6,
   "id": "13f8bb0d",
   "metadata": {},
   "outputs": [
    {
     "data": {
      "image/png": "[encoded data removed]",
      "text/plain": [
       "<IPython.core.display.Image object>"
      ]
     },
     "metadata": {},
     "output_type": "display_data"
    }
   ],
   "source": [
    "ZeeCanvas = TCanvas('zeecanvas','zeecanvas',700, 500)\n",
    "ZeeRings.Draw('AL')\n",
    "ZeeRpRings.SetLineColor(kBlue)\n",
    "ZeeRpRings.Draw('L')\n",
    "AddLegend( ZeeCanvas,0.4,0.5, ['Standard Rings', 'Rp Rings'], option='l')\n",
    "LZTLabel(ZeeCanvas, 0.2, 0.88, 'Internal, #sqrt{s}= 13TeV, <#mu>=0')\n",
    "ZeeRings.GetYaxis().SetTitle('Normalized Amplitude')\n",
    "ZeeRings.GetXaxis().SetTitle('Ring')\n",
    "ZeeCanvas.Draw()"
   ]
  },
  {
   "cell_type": "markdown",
   "id": "7feeaf69",
   "metadata": {},
   "source": [
    "## Jet Ringer Profile Plots:"
   ]
  },
  {
   "cell_type": "code",
   "execution_count": 7,
   "id": "8bc80184",
   "metadata": {},
   "outputs": [
    {
     "data": {
      "image/png": "[encoded data removed]",
      "text/plain": [
       "<IPython.core.display.Image object>"
      ]
     },
     "metadata": {},
     "output_type": "display_data"
    }
   ],
   "source": [
    "JetCanvas = TCanvas('Jetcanvas','Jetcanvas',700, 500)\n",
    "JetRings.Draw('AL')\n",
    "JetRpRings.SetLineColor(kBlue)\n",
    "JetRpRings.Draw('L')\n",
    "AddLegend( JetCanvas,0.4,0.5, ['Standard Rings', 'Rp Rings'], option='l')\n",
    "LZTLabel(JetCanvas, 0.2, 0.88, 'Internal, #sqrt{s}= 13TeV, <#mu>=0')\n",
    "JetRings.GetYaxis().SetTitle('Normalized Amplitude')\n",
    "JetRings.GetXaxis().SetTitle('Ring')\n",
    "JetCanvas.Draw()"
   ]
  }
 ],
 "metadata": {
  "kernelspec": {
   "display_name": "Python 3",
   "language": "python",
   "name": "python3"
  },
  "language_info": {
   "codemirror_mode": {
    "name": "ipython",
    "version": 3
   },
   "file_extension": ".py",
   "mimetype": "text/x-python",
   "name": "python",
   "nbconvert_exporter": "python",
   "pygments_lexer": "ipython3",
   "version": "3.8.10"
  }
 },
 "nbformat": 4,
 "nbformat_minor": 5
}
