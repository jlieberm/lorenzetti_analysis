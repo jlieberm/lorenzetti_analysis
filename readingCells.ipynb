{
 "cells": [
  {
   "cell_type": "code",
   "execution_count": 1,
   "id": "db267d87",
   "metadata": {},
   "outputs": [
    {
     "name": "stdout",
     "output_type": "stream",
     "text": [
      "Welcome to JupyROOT 6.22/00\n",
      "Using all sub packages with ROOT dependence\n",
      "\n",
      "Applying ATLAS style settings...\n"
     ]
    }
   ],
   "source": [
    "from lorenzetti_utils.read_events import *\n",
    "from Gaugi import load\n",
    "from Gaugi.monet.utils import getColor,getColors\n",
    "from Gaugi.monet.PlotFunctions import *\n",
    "from Gaugi.monet.TAxisFunctions import *\n",
    "from Gaugi.monet.AtlasStyle import *\n",
    "from Gaugi import stdvector_to_list, progressbar\n",
    "from ROOT import TCanvas, TH1F, TH1I, TFile\n",
    "from ROOT import TLatex, gPad\n",
    "from ROOT import kRed, kBlue, kBlack,TLine,kBird, kOrange,kGray, kYellow, kViolet, kGreen, kAzure\n",
    "from pprint import pprint\n",
    "from pandas import DataFrame\n",
    "\n",
    "\n",
    "import array\n",
    "import numpy as np\n",
    "%config InlineBackend.figure_format = 'retina'\n",
    "%load_ext autoreload\n",
    "%autoreload 2\n",
    "SetAtlasStyle()\n",
    "GeV=1000."
   ]
  },
  {
   "cell_type": "code",
   "execution_count": 2,
   "id": "bd4ed60d",
   "metadata": {},
   "outputs": [],
   "source": [
    "def read_cells( path , entry):\n",
    "    \n",
    "    event = EventStore(path, \"physics\")\n",
    "    vars = ['e','et','eta','phi','deta','dphi']\n",
    "    d = { key:[] for key in vars }\n",
    "    d['sampling']=[]\n",
    "\n",
    "    event.GetEntry(entry) \n",
    "    cell_cont = event.retrieve(\"CaloCellContainer_Cells\")\n",
    "    det_cont = event.retrieve(\"CaloDetDescriptorContainer_Cells\")\n",
    "    \n",
    "    for caloCell in cell_cont:\n",
    "        det_link = getattr(caloCell,\"descriptor_link\")\n",
    "        \n",
    "        for key in vars:\n",
    "            d[key].append( getattr(caloCell,key) )\n",
    "        det = det_cont.at(det_link)\n",
    "        d['sampling'].append(getattr(det,'sampling'))\n",
    "\n",
    "    \n",
    "    return DataFrame(d) "
   ]
  },
  {
   "cell_type": "code",
   "execution_count": 3,
   "id": "7463352d",
   "metadata": {},
   "outputs": [
    {
     "name": "stdout",
     "output_type": "stream",
     "text": [
      "               e          et     eta       phi   deta      dphi  sampling\n",
      "0      21.573963   19.020836 -0.5125 -0.343612  0.025  0.098175         0\n",
      "1      11.509350   10.147300 -0.5125 -0.245437  0.025  0.098175         0\n",
      "2    -139.491119 -122.983330 -0.5125 -0.147262  0.025  0.098175         0\n",
      "3     -88.267029  -77.821251 -0.5125 -0.049087  0.025  0.098175         0\n",
      "4      86.138374   76.826935 -0.4875 -0.343612  0.025  0.098175         0\n",
      "...          ...         ...     ...       ...    ...       ...       ...\n",
      "2024  -21.509815  -21.402712 -0.1000  3.092505  0.200  0.098175         0\n",
      "2025   -4.242188   -4.221066  0.1000 -3.092505  0.200  0.098175         0\n",
      "2026   -7.180152   -7.144400  0.1000  2.896156  0.200  0.098175         0\n",
      "2027   75.317474   74.942451  0.1000  2.994330  0.200  0.098175         0\n",
      "2028    0.924376    0.919774  0.1000  3.092505  0.200  0.098175         0\n",
      "\n",
      "[2029 rows x 7 columns]\n"
     ]
    }
   ],
   "source": [
    "path = '/home/juan/lorenzetti/files/rp/Zee/AOD/Zee.AOD.root'\n",
    "zee_cells = read_cells(path, entry = 3)\n",
    "path = '/home/juan/lorenzetti/files/rp/JF17/AOD/JF17.AOD.root'\n",
    "jet_cells = read_cells(path, entry = 3)\n",
    "print(zee_cells)"
   ]
  }
 ],
 "metadata": {
  "kernelspec": {
   "display_name": "Python 3",
   "language": "python",
   "name": "python3"
  },
  "language_info": {
   "codemirror_mode": {
    "name": "ipython",
    "version": 3
   },
   "file_extension": ".py",
   "mimetype": "text/x-python",
   "name": "python",
   "nbconvert_exporter": "python",
   "pygments_lexer": "ipython3",
   "version": "3.8.10"
  }
 },
 "nbformat": 4,
 "nbformat_minor": 5
}
