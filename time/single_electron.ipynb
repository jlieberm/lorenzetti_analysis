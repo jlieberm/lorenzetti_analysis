{
 "cells": [
  {
   "cell_type": "code",
   "execution_count": 1,
   "id": "624b19e1",
   "metadata": {},
   "outputs": [],
   "source": [
    "import numpy as np\n",
    "import matplotlib.pyplot as plt"
   ]
  },
  {
   "cell_type": "code",
   "execution_count": null,
   "id": "4b6dbda5",
   "metadata": {},
   "outputs": [],
   "source": [
    "nEvents = [5,10,20,25,50,100]\n",
    "steps = ['generation_electron','simu_electron','digit_electron','reco_electron']\n",
    "\n",
    "dictMeasurement = {step: list() for step in steps}"
   ]
  },
  {
   "cell_type": "code",
   "execution_count": null,
   "id": "87c021bd",
   "metadata": {},
   "outputs": [],
   "source": [
    "for n in nEvents:\n",
    "    data = np.load('/home/juan/lorenzetti/tempo/singleElectron'+str(n)+'.npy',allow_pickle='TRUE').item()\n",
    "    for step in steps:\n",
    "        dictMeasurement[step].append(data[step][0]/n)"
   ]
  },
  {
   "cell_type": "code",
   "execution_count": null,
   "id": "7d36c9e5",
   "metadata": {},
   "outputs": [],
   "source": [
    "labels=['generation','simulation','digitalization','reconstruction']\n",
    "markers=['D','s','8','^']\n",
    "for idx,step in enumerate(steps):\n",
    "    plt.plot(nEvents,dictMeasurement[step],label=labels[idx],linestyle='-.',marker=markers[idx])\n",
    "plt.xlabel('Quantity of Events', fontsize=18)\n",
    "plt.ylabel('Average Time per event [s]',fontsize=18)\n",
    "\n",
    "plt.legend(prop={'size': 14})\n",
    "plt.xticks(fontsize=14)\n",
    "plt.yticks(fontsize=14)\n",
    "plt.grid()\n",
    "plt.show()"
   ]
  }
 ],
 "metadata": {
  "kernelspec": {
   "display_name": "Python 3.7.3 64-bit",
   "language": "python",
   "name": "python373jvsc74a57bd031f2aee4e71d21fbe5cf8b01ff0e069b9275f58929596ceb00d14d90e3e16cd6"
  },
  "language_info": {
   "codemirror_mode": {
    "name": "ipython",
    "version": 3
   },
   "file_extension": ".py",
   "mimetype": "text/x-python",
   "name": "python",
   "nbconvert_exporter": "python",
   "pygments_lexer": "ipython3",
   "version": "3.8.10"
  }
 },
 "nbformat": 4,
 "nbformat_minor": 5
}
